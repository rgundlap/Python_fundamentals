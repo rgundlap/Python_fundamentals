{
 "cells": [
  {
   "cell_type": "markdown",
   "metadata": {},
   "source": [
    "#  Exception Handling"
   ]
  },
  {
   "cell_type": "code",
   "execution_count": 2,
   "metadata": {},
   "outputs": [
    {
     "ename": "ZeroDivisionError",
     "evalue": "division by zero",
     "output_type": "error",
     "traceback": [
      "\u001b[1;31m---------------------------------------------------------------------------\u001b[0m",
      "\u001b[1;31mZeroDivisionError\u001b[0m                         Traceback (most recent call last)",
      "\u001b[1;32m<ipython-input-2-c39e1d1a9690>\u001b[0m in \u001b[0;36m<module>\u001b[1;34m()\u001b[0m\n\u001b[0;32m      1\u001b[0m \u001b[1;31m# where application is closed un expectedly , being ap rogrammer we need provide the Exception to that application\u001b[0m\u001b[1;33m\u001b[0m\u001b[1;33m\u001b[0m\u001b[0m\n\u001b[0;32m      2\u001b[0m \u001b[1;31m# example 2/0 which is infinty\u001b[0m\u001b[1;33m\u001b[0m\u001b[1;33m\u001b[0m\u001b[0m\n\u001b[1;32m----> 3\u001b[1;33m \u001b[1;36m10\u001b[0m\u001b[1;33m/\u001b[0m\u001b[1;36m0\u001b[0m\u001b[1;33m\u001b[0m\u001b[0m\n\u001b[0m\u001b[0;32m      4\u001b[0m \u001b[1;31m# being a good programmer we need to give this exception to the user\u001b[0m\u001b[1;33m\u001b[0m\u001b[1;33m\u001b[0m\u001b[0m\n",
      "\u001b[1;31mZeroDivisionError\u001b[0m: division by zero"
     ]
    }
   ],
   "source": [
    "# where application is closed un expectedly , being ap rogrammer we need provide the Exception to that application\n",
    "# example 2/0 which is infinty \n",
    "10/0\n",
    "# being a good programmer we need to give this exception to the user"
   ]
  },
  {
   "cell_type": "code",
   "execution_count": 9,
   "metadata": {},
   "outputs": [
    {
     "name": "stdout",
     "output_type": "stream",
     "text": [
      "Enter Length\n",
      "10\n",
      "Enter Length\n",
      "0\n",
      " Divisible by 0 is invalid ! , Kindly chage your input \n"
     ]
    }
   ],
   "source": [
    "# python provide \"try\" and \"except\" blocks to handle Exceptions.\n",
    "# in \"try\" block we should write the code where the excception is going to come,\n",
    "# in \" except\" we need to write the cause fo rcoming the exception.\n",
    "try:    # try is block\n",
    "    print(\"Enter Length\")\n",
    "    lenght = int(input())\n",
    "    print(\"Enter Length\")\n",
    "    width = int(input())\n",
    "    something = lenght / width\n",
    "    print(\"something value is {}\".format(something))\n",
    "except Exception :           # Exception is class or a  function which handles all typr of exception in python.\n",
    "                             # except is block\n",
    "    print(\" Divisible by 0 is invalid ! , Kindly change your input \")\n",
    "    \n",
    "    # this is example of exception handling , try to enter a number  by 0 and check the result."
   ]
  },
  {
   "cell_type": "code",
   "execution_count": 1,
   "metadata": {},
   "outputs": [
    {
     "name": "stdout",
     "output_type": "stream",
     "text": [
      " Divisible by 0 is invalid ! , Kindly change your input \n"
     ]
    }
   ],
   "source": [
    "try:     \n",
    "    len = 10\n",
    "    width = 0\n",
    "    some = len / width\n",
    "    print(\"something value is {}\".format(some))\n",
    "except Exception :           \n",
    "    print(\" Divisible by 0 is invalid ! , Kindly change your input \")\n",
    "    "
   ]
  },
  {
   "cell_type": "code",
   "execution_count": 2,
   "metadata": {
    "collapsed": true
   },
   "outputs": [],
   "source": [
    "del(width)"
   ]
  },
  {
   "cell_type": "code",
   "execution_count": 3,
   "metadata": {},
   "outputs": [
    {
     "name": "stdout",
     "output_type": "stream",
     "text": [
      " Divisible by 0 is invalid ! , Kindly change your input \n"
     ]
    }
   ],
   "source": [
    "try:     \n",
    "    len = 10\n",
    "    width = 0\n",
    "    some = len / width\n",
    "    print(\"something value is {}\".format(some))\n",
    "except Exception :           \n",
    "    print(\" Divisible by 0 is invalid ! , Kindly change your input \")\n",
    "# this is wrong type of expection because here there is value assigned to width so we have change the exception as below "
   ]
  },
  {
   "cell_type": "code",
   "execution_count": 6,
   "metadata": {},
   "outputs": [
    {
     "ename": "ZeroDivisionError",
     "evalue": "division by zero",
     "output_type": "error",
     "traceback": [
      "\u001b[1;31m---------------------------------------------------------------------------\u001b[0m",
      "\u001b[1;31mZeroDivisionError\u001b[0m                         Traceback (most recent call last)",
      "\u001b[1;32m<ipython-input-6-d5ebdc22d855>\u001b[0m in \u001b[0;36m<module>\u001b[1;34m()\u001b[0m\n\u001b[0;32m      1\u001b[0m \u001b[1;33m\u001b[0m\u001b[0m\n\u001b[0;32m      2\u001b[0m \u001b[1;32mtry\u001b[0m\u001b[1;33m:\u001b[0m\u001b[1;33m\u001b[0m\u001b[0m\n\u001b[1;32m----> 3\u001b[1;33m     \u001b[0msomet\u001b[0m \u001b[1;33m=\u001b[0m \u001b[0mlen\u001b[0m \u001b[1;33m/\u001b[0m \u001b[0mwidth\u001b[0m\u001b[1;33m\u001b[0m\u001b[0m\n\u001b[0m\u001b[0;32m      4\u001b[0m     \u001b[0mprint\u001b[0m\u001b[1;33m(\u001b[0m\u001b[1;34m\"something value is {}\"\u001b[0m\u001b[1;33m.\u001b[0m\u001b[0mformat\u001b[0m\u001b[1;33m(\u001b[0m\u001b[0msomet\u001b[0m\u001b[1;33m)\u001b[0m\u001b[1;33m)\u001b[0m\u001b[1;33m\u001b[0m\u001b[0m\n\u001b[0;32m      5\u001b[0m \u001b[1;32mexcept\u001b[0m \u001b[0mNameError\u001b[0m \u001b[1;33m:\u001b[0m\u001b[1;33m\u001b[0m\u001b[0m\n",
      "\u001b[1;31mZeroDivisionError\u001b[0m: division by zero"
     ]
    }
   ],
   "source": [
    "\n",
    "try:     \n",
    "    somet = len / width\n",
    "    print(\"something value is {}\".format(somet))\n",
    "except NameError :           \n",
    "    print(\" Variable has been used before using it \")"
   ]
  },
  {
   "cell_type": "code",
   "execution_count": 8,
   "metadata": {},
   "outputs": [],
   "source": [
    "del(width)"
   ]
  },
  {
   "cell_type": "code",
   "execution_count": 9,
   "metadata": {},
   "outputs": [
    {
     "name": "stdout",
     "output_type": "stream",
     "text": [
      " Variable has been used before using it \n"
     ]
    }
   ],
   "source": [
    "try:     \n",
    "    somet = len / width\n",
    "    print(\"something value is {}\".format(somet))\n",
    "except NameError :           \n",
    "    print(\" Variable has been used before using it \")"
   ]
  },
  {
   "cell_type": "code",
   "execution_count": 10,
   "metadata": {},
   "outputs": [
    {
     "name": "stdout",
     "output_type": "stream",
     "text": [
      " Divisible by 0 is invalid ! , Kindly change your input \n"
     ]
    }
   ],
   "source": [
    "# try bloack can have mulitple statements\n",
    "\n",
    "try:     \n",
    "    width = 0\n",
    "    somet = len / width\n",
    "    print(\"something value is {}\".format(somet))\n",
    "except NameError :           \n",
    "    print(\" Variable has been used before using it \")\n",
    "except ZeroDivisionError :           \n",
    "    print(\" Divisible by 0 is invalid ! , Kindly change your input \")"
   ]
  },
  {
   "cell_type": "code",
   "execution_count": null,
   "metadata": {
    "collapsed": true
   },
   "outputs": [],
   "source": []
  }
 ],
 "metadata": {
  "kernelspec": {
   "display_name": "Python 3",
   "language": "python",
   "name": "python3"
  },
  "language_info": {
   "codemirror_mode": {
    "name": "ipython",
    "version": 3
   },
   "file_extension": ".py",
   "mimetype": "text/x-python",
   "name": "python",
   "nbconvert_exporter": "python",
   "pygments_lexer": "ipython3",
   "version": "3.6.3"
  }
 },
 "nbformat": 4,
 "nbformat_minor": 2
}
