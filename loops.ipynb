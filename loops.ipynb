{
 "cells": [
  {
   "cell_type": "markdown",
   "metadata": {},
   "source": [
    "# Loop statements"
   ]
  },
  {
   "cell_type": "code",
   "execution_count": 1,
   "metadata": {
    "collapsed": true
   },
   "outputs": [],
   "source": [
    "# are statements that can eexcuted repeatally  based on  certian condition.\n",
    "# diff loops are\n",
    "# FOR, While, Nested Loop"
   ]
  },
  {
   "cell_type": "markdown",
   "metadata": {},
   "source": [
    "#  FOR Loop"
   ]
  },
  {
   "cell_type": "code",
   "execution_count": 2,
   "metadata": {},
   "outputs": [
    {
     "data": {
      "text/plain": [
       "['cricket', 'football', 'hockey', 'volleyball']"
      ]
     },
     "execution_count": 2,
     "metadata": {},
     "output_type": "execute_result"
    }
   ],
   "source": [
    "# for loop is loop inf statement which is iterate over a sequence . A sequence can be anything like string , tuple, list\n",
    "sports = [\"cricket\", \"football\", \"hockey\", \"volleyball\"]\n",
    "sports\n"
   ]
  },
  {
   "cell_type": "code",
   "execution_count": 6,
   "metadata": {},
   "outputs": [
    {
     "name": "stdout",
     "output_type": "stream",
     "text": [
      "cricket\n"
     ]
    }
   ],
   "source": [
    "print(sports[0])"
   ]
  },
  {
   "cell_type": "code",
   "execution_count": 4,
   "metadata": {},
   "outputs": [
    {
     "data": {
      "text/plain": [
       "'football'"
      ]
     },
     "execution_count": 4,
     "metadata": {},
     "output_type": "execute_result"
    }
   ],
   "source": [
    "print(sports[1])"
   ]
  },
  {
   "cell_type": "code",
   "execution_count": 5,
   "metadata": {},
   "outputs": [
    {
     "data": {
      "text/plain": [
       "'hockey'"
      ]
     },
     "execution_count": 5,
     "metadata": {},
     "output_type": "execute_result"
    }
   ],
   "source": [
    "print(sports[2])"
   ]
  },
  {
   "cell_type": "code",
   "execution_count": 8,
   "metadata": {},
   "outputs": [
    {
     "name": "stdout",
     "output_type": "stream",
     "text": [
      "cricket\n",
      "football\n",
      "hockey\n",
      "volleyball\n"
     ]
    }
   ],
   "source": [
    "# like above print(sports[1]) we cannot write like this if we have 1000 elements , the solution for this is FOR loop\n",
    "# for variable in sequence is general syntax of for loop\n",
    "for sport in sports :\n",
    "    print(sport)"
   ]
  },
  {
   "cell_type": "code",
   "execution_count": 9,
   "metadata": {},
   "outputs": [
    {
     "name": "stdout",
     "output_type": "stream",
     "text": [
      "1\n",
      "2\n",
      "3\n",
      "4\n",
      "5\n",
      "6\n",
      "7\n",
      "8\n",
      "9\n"
     ]
    }
   ],
   "source": [
    "# RANGE function\n",
    "# how to generate values from 1 to 10 , we can do this by using range function\n",
    "for number in range(1,10) :\n",
    "    print(number)"
   ]
  },
  {
   "cell_type": "markdown",
   "metadata": {},
   "source": [
    "#  WHILE "
   ]
  },
  {
   "cell_type": "code",
   "execution_count": 10,
   "metadata": {},
   "outputs": [
    {
     "name": "stdout",
     "output_type": "stream",
     "text": [
      " Room temperatures are mainted at 77 degree farenheit\n",
      " Room temperatures are mainted at 76 degree farenheit\n",
      " Room temperatures are mainted at 75 degree farenheit\n",
      " Room temperatures are mainted at 74 degree farenheit\n",
      " Room temperatures are mainted at 73 degree farenheit\n",
      " Room temperatures are mainted at 72 degree farenheit\n",
      " Room temperatures are mainted at 71 degree farenheit\n",
      " Room temperatures are mainted at 70 degree farenheit\n",
      " Room temperatures are mainted at 69 degree farenheit\n",
      " Room temperatures are mainted at 68 degree farenheit\n"
     ]
    }
   ],
   "source": [
    "# While loop is looping statement that executes the block of code as along as certian condition  evalutes as true.\n",
    "# print the temperature of room untill it reachs to 77 ( 68-77 in general)\n",
    "temperature =77\n",
    "while temperature >=68 and temperature <=77 :\n",
    "    print(\" Room temperatures are mainted at {} degree farenheit\" . format(temperature))\n",
    "    temperature = temperature -1 "
   ]
  },
  {
   "cell_type": "code",
   "execution_count": null,
   "metadata": {
    "collapsed": true
   },
   "outputs": [],
   "source": [
    "# ifinte While LOOP \n",
    "while True:\n",
    "    print(\"prints for ever and ever\")"
   ]
  },
  {
   "cell_type": "markdown",
   "metadata": {},
   "source": [
    "#   Nested Loops"
   ]
  },
  {
   "cell_type": "code",
   "execution_count": 1,
   "metadata": {},
   "outputs": [
    {
     "name": "stdout",
     "output_type": "stream",
     "text": [
      "1 2 3 \n",
      "4 5 6 \n",
      "7 8 9 \n"
     ]
    }
   ],
   "source": [
    "# Nested Loop is loop within another loop \n",
    "# for each outer loop it will excutes the inner loop and again back to the outer loop.\n",
    "number = 1\n",
    "for row in range(1,4):  # this is for number of rows to generate.\n",
    "    for column in range(1,4):  # this is for number of columns to generate.\n",
    "        print(number, end = \" \") # to generate space between 1 and 2 we are using end parameter followed for space.\n",
    "        number = number + 1 # incrementing the value by 1 in order to generate the number sfrom 1 to 9.\n",
    "    print()"
   ]
  },
  {
   "cell_type": "markdown",
   "metadata": {},
   "source": [
    "#  Break"
   ]
  },
  {
   "cell_type": "code",
   "execution_count": 2,
   "metadata": {},
   "outputs": [
    {
     "name": "stdout",
     "output_type": "stream",
     "text": [
      "1\n",
      "2\n",
      "3\n",
      "4\n"
     ]
    }
   ],
   "source": [
    "# based on certain condition it will stop the execution of the programm and display the results upto that condition.\n",
    "for number in range(1,11) :\n",
    "    if number == 5 : \n",
    "        break\n",
    "    else :\n",
    "        print(number)\n",
    "        "
   ]
  },
  {
   "cell_type": "markdown",
   "metadata": {},
   "source": [
    "# continue"
   ]
  },
  {
   "cell_type": "code",
   "execution_count": 3,
   "metadata": {},
   "outputs": [
    {
     "name": "stdout",
     "output_type": "stream",
     "text": [
      "1\n",
      "2\n",
      "3\n",
      "4\n",
      "6\n",
      "7\n",
      "8\n",
      "9\n",
      "10\n"
     ]
    }
   ],
   "source": [
    "# based on certain condition it will skip that condition of the programm and display the results.\n",
    "for number in range(1,11) :\n",
    "    if number == 5 : \n",
    "        continue\n",
    "    else :\n",
    "        print(number)"
   ]
  },
  {
   "cell_type": "markdown",
   "metadata": {},
   "source": [
    "# else"
   ]
  },
  {
   "cell_type": "code",
   "execution_count": 5,
   "metadata": {},
   "outputs": [
    {
     "name": "stdout",
     "output_type": "stream",
     "text": [
      "1\n",
      "2\n",
      "3\n",
      "4\n",
      "5\n",
      "6\n",
      "7\n",
      "8\n",
      "9\n",
      "10\n",
      "All tthe numbers we printed without break\n"
     ]
    }
   ],
   "source": [
    "for number in range(1,11) :\n",
    "    if number == 15 : \n",
    "        break\n",
    "    else :\n",
    "        print(number)\n",
    "else:\n",
    "    print(\"All tthe numbers we printed without break\")"
   ]
  },
  {
   "cell_type": "code",
   "execution_count": 6,
   "metadata": {},
   "outputs": [
    {
     "name": "stdout",
     "output_type": "stream",
     "text": [
      "1\n",
      "2\n",
      "3\n",
      "4\n"
     ]
    }
   ],
   "source": [
    "for number in range(1,11) :\n",
    "    if number == 5 : \n",
    "        break\n",
    "    else :\n",
    "        print(number)\n",
    "else:\n",
    "    print(\"All tthe numbers we printed without break\")"
   ]
  },
  {
   "cell_type": "code",
   "execution_count": 4,
   "metadata": {},
   "outputs": [
    {
     "name": "stdout",
     "output_type": "stream",
     "text": [
      "lenght of loop =  1\n",
      "lenght of loop =  2\n",
      "lenght of loop =  3\n"
     ]
    }
   ],
   "source": [
    "lenght = 1\n",
    "while lenght <= 3:\n",
    " print(\"lenght of loop = \", lenght)\n",
    " lenght = lenght+1"
   ]
  },
  {
   "cell_type": "code",
   "execution_count": 5,
   "metadata": {},
   "outputs": [
    {
     "name": "stdout",
     "output_type": "stream",
     "text": [
      "5 10 15 20 \n",
      "25 30 35 40 \n",
      "45 50 55 60 \n",
      "65 70 75 80 \n"
     ]
    }
   ],
   "source": [
    "number = 5\n",
    "for row in range(1,5):  # this is for number of rows to generate.\n",
    "    for column in range(1,5):  # this is for number of columns to generate.\n",
    "        print(number, end = \" \") # to generate space between 1 and 2 we are using end parameter followed for space.\n",
    "        number = number + 5 # incrementing the value by 1 in order to generate the number sfrom 1 to 9.\n",
    "    print()"
   ]
  },
  {
   "cell_type": "code",
   "execution_count": 6,
   "metadata": {},
   "outputs": [
    {
     "name": "stdout",
     "output_type": "stream",
     "text": [
      "lenght =  4\n",
      "break was not encountered\n"
     ]
    }
   ],
   "source": [
    "lenght = 4\n",
    "while lenght >0 and lenght <5:\n",
    "    if lenght == 3 :\n",
    "        break\n",
    "    print(\"lenght = \",lenght)\n",
    "    lenght = lenght+1\n",
    "else :\n",
    "    print (\"break was not encountered\")"
   ]
  },
  {
   "cell_type": "code",
   "execution_count": 16,
   "metadata": {},
   "outputs": [
    {
     "name": "stdout",
     "output_type": "stream",
     "text": [
      "Enter the name of the book :\n",
      "The seven habits of highly effective people\n",
      "yes, I have the book!\n"
     ]
    }
   ],
   "source": [
    "# exampple  : check if a book exists in your collection\n",
    "collectionOfBooks = [\"The Alchemist\", \"How to win friends and influence people\", \"The seven habits of highly effective people\"]\n",
    "print(\"Enter the name of the book :\")\n",
    "bookToChecked = input()\n",
    "for book in collectionOfBooks :\n",
    "    if book == bookToChecked :\n",
    "        print(\"yes, I have the book!\")\n",
    "        break\n",
    "else :\n",
    "        print(\" No, i dont have the book\")\n",
    "        \n"
   ]
  },
  {
   "cell_type": "code",
   "execution_count": null,
   "metadata": {
    "collapsed": true
   },
   "outputs": [],
   "source": []
  }
 ],
 "metadata": {
  "kernelspec": {
   "display_name": "Python 3",
   "language": "python",
   "name": "python3"
  }
 },
 "nbformat": 4,
 "nbformat_minor": 2
}
