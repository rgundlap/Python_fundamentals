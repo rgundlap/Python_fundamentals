{
 "cells": [
  {
   "cell_type": "markdown",
   "metadata": {},
   "source": [
    "#   Functions"
   ]
  },
  {
   "cell_type": "code",
   "execution_count": 1,
   "metadata": {
    "collapsed": true
   },
   "outputs": [],
   "source": [
    "# Functions are  named unit of code that performs a specific task. \n",
    "# Functions are re-usable piiece of code.\n",
    "# def function_name ():\n",
    "# bofy of the fnction"
   ]
  },
  {
   "cell_type": "code",
   "execution_count": 2,
   "metadata": {
    "collapsed": true
   },
   "outputs": [],
   "source": [
    "def helloWorld():\n",
    "    print(\"hello world!\")"
   ]
  },
  {
   "cell_type": "code",
   "execution_count": 3,
   "metadata": {},
   "outputs": [
    {
     "name": "stdout",
     "output_type": "stream",
     "text": [
      "hello world!\n"
     ]
    }
   ],
   "source": [
    "helloWorld()"
   ]
  },
  {
   "cell_type": "code",
   "execution_count": 9,
   "metadata": {},
   "outputs": [
    {
     "data": {
      "text/plain": [
       "84"
      ]
     },
     "execution_count": 9,
     "metadata": {},
     "output_type": "execute_result"
    }
   ],
   "source": [
    "# Functions with parameters and values\n",
    "# compute the area of rectangle L*B = area\n",
    "lenghtOne = 12\n",
    "widthOne = 7\n",
    "areaOne = lenghtOne * widthOne\n",
    "areaOne"
   ]
  },
  {
   "cell_type": "code",
   "execution_count": 13,
   "metadata": {},
   "outputs": [
    {
     "data": {
      "text/plain": [
       "70"
      ]
     },
     "execution_count": 13,
     "metadata": {},
     "output_type": "execute_result"
    }
   ],
   "source": [
    "lenghtTwo = 10\n",
    "widthTwo = 7\n",
    "areaTwo = lenghtTwo * widthTwo\n",
    "areaTwo"
   ]
  },
  {
   "cell_type": "code",
   "execution_count": 14,
   "metadata": {},
   "outputs": [
    {
     "name": "stdout",
     "output_type": "stream",
     "text": [
      "Area of Rectangle is :  84\n"
     ]
    }
   ],
   "source": [
    "# we need to write the code when the length and width values are chnaging this is burden to the programmer. \n",
    "# to over come this we are going for functions with single code, which we are going to use multiple times.\n",
    "def  computeArea(length, width):\n",
    "    areaOfRectangle = length * width\n",
    "    print(\"Area of Rectangle is : \",areaOfRectangle)\n",
    "    \n",
    "computeArea(lenghtOne,widthOne)"
   ]
  },
  {
   "cell_type": "code",
   "execution_count": 16,
   "metadata": {},
   "outputs": [
    {
     "name": "stdout",
     "output_type": "stream",
     "text": [
      "Area of Rectangle is :  70\n"
     ]
    }
   ],
   "source": [
    "computeArea(lenghtTwo, widthTwo)"
   ]
  },
  {
   "cell_type": "code",
   "execution_count": 20,
   "metadata": {},
   "outputs": [
    {
     "name": "stdout",
     "output_type": "stream",
     "text": [
      "84\n"
     ]
    }
   ],
   "source": [
    "# return statements passes the values to the called function\n",
    "def  computeArea(length, width):\n",
    "    areaOfRectangle = length * width\n",
    "    return areaOfRectangle\n",
    "areaOfRectangle = computeArea(lenghtOne,widthOne)\n",
    "print(areaOfRectangle)\n",
    "    "
   ]
  },
  {
   "cell_type": "code",
   "execution_count": 21,
   "metadata": {},
   "outputs": [
    {
     "name": "stdout",
     "output_type": "stream",
     "text": [
      "70\n"
     ]
    }
   ],
   "source": [
    "areaOfRectangle = computeArea(lenghtTwo,widthTwo)\n",
    "print(areaOfRectangle)"
   ]
  },
  {
   "cell_type": "code",
   "execution_count": 28,
   "metadata": {},
   "outputs": [
    {
     "name": "stdout",
     "output_type": "stream",
     "text": [
      "greatest number among numberOne and numberTwo is :  10\n"
     ]
    }
   ],
   "source": [
    "def findMaxorMin(numberOne, numberTwo):\n",
    "    if (numberOne > numberTwo):\n",
    "        return numberOne\n",
    "    else :\n",
    "        return numberTwo\n",
    "\n",
    "numberOne=10\n",
    "numberTwo=4\n",
    "greatestNumber = findMaxorMin(numberOne,numberTwo)\n",
    "print(\"greatest number among numberOne and numberTwo is : \",greatestNumber)\n"
   ]
  },
  {
   "cell_type": "code",
   "execution_count": 33,
   "metadata": {},
   "outputs": [
    {
     "name": "stdout",
     "output_type": "stream",
     "text": [
      " enter first number\n",
      "10\n",
      " enter seond number\n",
      "6\n",
      "You entered :  10 6\n",
      "first number is greater \n"
     ]
    }
   ],
   "source": [
    "# finding greatest among 2 numbers\n",
    "\n",
    "def findMax(firstNum, secondNum):\n",
    "    if (firstNum > secondNum ):\n",
    "        print(\"first number is greater \")\n",
    "    elif  (firstNum < secondNum ):\n",
    "        print(\"second number is greater \")\n",
    "    else :\n",
    "        print(\" both numbers are equal \")\n",
    "    \n",
    "print(\" enter first number\")\n",
    "firstNum = int(input())\n",
    "print(\" enter second number\")\n",
    "secondNum = int(input())\n",
    "print(\"You entered : \",firstNum, secondNum)\n",
    "findMax(firstNum, secondNum)"
   ]
  },
  {
   "cell_type": "code",
   "execution_count": 36,
   "metadata": {},
   "outputs": [
    {
     "name": "stdout",
     "output_type": "stream",
     "text": [
      " enter first number\n",
      "12\n",
      " enter second number\n",
      "56\n",
      "You entered :  12 56\n",
      "second number is greater \n",
      "maximum number = 56\n"
     ]
    }
   ],
   "source": [
    "# using return statement\n",
    "\n",
    "def findMax(firstNum, secondNum):\n",
    "    if (firstNum > secondNum ):\n",
    "        print(\"first number is greater \")\n",
    "        return firstNum\n",
    "    elif  (firstNum < secondNum ):\n",
    "        print(\"second number is greater \")\n",
    "        return secondNum\n",
    "    else :\n",
    "        print(\" both numbers are equal \")\n",
    "        return firstNum\n",
    "    \n",
    "print(\" Enter first number\")\n",
    "firstNum = int(input())\n",
    "print(\" Enter second number\")\n",
    "secondNum = int(input())\n",
    "print(\"You entered : \",firstNum, secondNum)\n",
    "maxNumber = findMax(firstNum, secondNum)\n",
    "print(\"Maximum Number = {}\".format(maxNumber))"
   ]
  },
  {
   "cell_type": "code",
   "execution_count": null,
   "metadata": {
    "collapsed": true
   },
   "outputs": [],
   "source": []
  }
 ],
 "metadata": {
  "kernelspec": {
   "display_name": "Python 3",
   "language": "python",
   "name": "python3"
  },
  "language_info": {
   "codemirror_mode": {
    "name": "ipython",
    "version": 3
   },
   "file_extension": ".py",
   "mimetype": "text/x-python",
   "name": "python",
   "nbconvert_exporter": "python",
   "pygments_lexer": "ipython3",
   "version": "3.6.3"
  }
 },
 "nbformat": 4,
 "nbformat_minor": 2
}
