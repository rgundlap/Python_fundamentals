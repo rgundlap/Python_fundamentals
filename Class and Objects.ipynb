{
 "cells": [
  {
   "cell_type": "markdown",
   "metadata": {},
   "source": [
    "# Class and Objects"
   ]
  },
  {
   "cell_type": "code",
   "execution_count": 1,
   "metadata": {
    "collapsed": true
   },
   "outputs": [],
   "source": [
    "#classes are logical collection of attributes and methods,  \n",
    "# objects are instances of class\n",
    "# class =  \"noun\"\n",
    "# adjective = attribute\n",
    "# methods = verb\n"
   ]
  },
  {
   "cell_type": "markdown",
   "metadata": {},
   "source": [
    "#   Implemtation of classes and objects\n"
   ]
  },
  {
   "cell_type": "code",
   "execution_count": 3,
   "metadata": {},
   "outputs": [
    {
     "name": "stdout",
     "output_type": "stream",
     "text": [
      "Ravi\n",
      " Employee Achieved his Target \n"
     ]
    }
   ],
   "source": [
    "# check if an employee achieved his weekly targets or not.\n",
    "\n",
    "# fo this we have to check the noun, adjective and verb  means class, attributes and methods we ar egoin gto implement\n",
    "# class is blue-print and object is the execution of that blue-print\n",
    "\n",
    "class Employee():\n",
    "    name = \"Ravi\"\n",
    "    designation = \" software Engineer\"\n",
    "    workDoneThisWeek = 6 \n",
    "    def hasAchievedTarget (self) : # self is default parameter for the hasAchievedtarget function because, in order to access the attributes of class we need to mention this self parameter .\n",
    "        if self.workDoneThisWeek >= 5:\n",
    "            print(\" Employee Achieved his Target \")\n",
    "        else :\n",
    "            print(\" Employee not Achieved his Target \")\n",
    "\n",
    "employeeOne = Employee()\n",
    "print(employeeOne.name)\n",
    "employeeOne.hasAchievedTarget()"
   ]
  },
  {
   "cell_type": "code",
   "execution_count": 5,
   "metadata": {},
   "outputs": [
    {
     "name": "stdout",
     "output_type": "stream",
     "text": [
      "Intial Name of the Employee is : Ravi\n",
      "Changed name of the Employee is :  Sankar\n"
     ]
    }
   ],
   "source": [
    "class Employee:\n",
    "    # Define an attribute called name\n",
    "    name = \"Ravi\"\n",
    "\n",
    "    def changeName (self):\n",
    "        # Change the value of the attribute within a method\n",
    "        Employee.name = \"Sankar\"\n",
    "\n",
    "employee = Employee()\n",
    "print(\"Intial Name of the Employee is :\", employee.name)\n",
    "employee.changeName()\n",
    "print(\"Changed name of the Employee is : \", employee.name)"
   ]
  },
  {
   "cell_type": "markdown",
   "metadata": {},
   "source": [
    "#   Attributes "
   ]
  },
  {
   "cell_type": "markdown",
   "metadata": {},
   "source": [
    "#   Class Attribute"
   ]
  },
  {
   "cell_type": "code",
   "execution_count": 6,
   "metadata": {},
   "outputs": [
    {
     "data": {
      "text/plain": [
       "40"
      ]
     },
     "execution_count": 6,
     "metadata": {},
     "output_type": "execute_result"
    }
   ],
   "source": [
    "# class attributes are attributes which are common to all the instances of your class which means for every object of the class which you creste the value of that attribute remain same\n",
    "#  in above exampe class attribute is number of hours employee works means which is common to every employee in that class.\n",
    "class Employee:\n",
    "    numberOfWorkingHours = 40\n",
    "employeeOne = Employee()\n",
    "employeeTwo = Employee()\n",
    "employeeOne.numberOfWorkingHours"
   ]
  },
  {
   "cell_type": "code",
   "execution_count": 7,
   "metadata": {},
   "outputs": [
    {
     "data": {
      "text/plain": [
       "40"
      ]
     },
     "execution_count": 7,
     "metadata": {},
     "output_type": "execute_result"
    }
   ],
   "source": [
    "employeeTwo.numberOfWorkingHours"
   ]
  },
  {
   "cell_type": "code",
   "execution_count": 8,
   "metadata": {},
   "outputs": [
    {
     "data": {
      "text/plain": [
       "45"
      ]
     },
     "execution_count": 8,
     "metadata": {},
     "output_type": "execute_result"
    }
   ],
   "source": [
    "# how to change the value of numberOfWorkingHours to some other value. this can be done by \n",
    "Employee.numberOfWorkingHours = 45\n",
    "employeeOne.numberOfWorkingHours"
   ]
  },
  {
   "cell_type": "code",
   "execution_count": 9,
   "metadata": {},
   "outputs": [
    {
     "data": {
      "text/plain": [
       "45"
      ]
     },
     "execution_count": 9,
     "metadata": {},
     "output_type": "execute_result"
    }
   ],
   "source": [
    "employeeTwo.numberOfWorkingHours"
   ]
  },
  {
   "cell_type": "markdown",
   "metadata": {},
   "source": [
    "#  Instance Attribute"
   ]
  },
  {
   "cell_type": "code",
   "execution_count": 10,
   "metadata": {},
   "outputs": [
    {
     "data": {
      "text/plain": [
       "'ravi'"
      ]
     },
     "execution_count": 10,
     "metadata": {},
     "output_type": "execute_result"
    }
   ],
   "source": [
    "# Instance  attributes are attributes which are specific  to each  instances of your class \n",
    "employeeOne.name = \"ravi\" # this is instance atttribute \n",
    "employeeOne.name"
   ]
  },
  {
   "cell_type": "code",
   "execution_count": 11,
   "metadata": {},
   "outputs": [
    {
     "ename": "AttributeError",
     "evalue": "'Employee' object has no attribute 'name'",
     "output_type": "error",
     "traceback": [
      "\u001b[1;31m---------------------------------------------------------------------------\u001b[0m",
      "\u001b[1;31mAttributeError\u001b[0m                            Traceback (most recent call last)",
      "\u001b[1;32m<ipython-input-11-f18091cab66f>\u001b[0m in \u001b[0;36m<module>\u001b[1;34m()\u001b[0m\n\u001b[1;32m----> 1\u001b[1;33m \u001b[0memployeeTwo\u001b[0m\u001b[1;33m.\u001b[0m\u001b[0mname\u001b[0m\u001b[1;33m\u001b[0m\u001b[0m\n\u001b[0m",
      "\u001b[1;31mAttributeError\u001b[0m: 'Employee' object has no attribute 'name'"
     ]
    }
   ],
   "source": [
    "employeeTwo.name #  Employee object doesnot have name. we are not created the name attribute to employeeTwo"
   ]
  },
  {
   "cell_type": "code",
   "execution_count": 12,
   "metadata": {},
   "outputs": [
    {
     "data": {
      "text/plain": [
       "'Sankar'"
      ]
     },
     "execution_count": 12,
     "metadata": {},
     "output_type": "execute_result"
    }
   ],
   "source": [
    "employeeTwo.name = \"Sankar\"\n",
    "employeeTwo.name"
   ]
  },
  {
   "cell_type": "code",
   "execution_count": 14,
   "metadata": {},
   "outputs": [
    {
     "data": {
      "text/plain": [
       "40"
      ]
     },
     "execution_count": 14,
     "metadata": {},
     "output_type": "execute_result"
    }
   ],
   "source": [
    "employeeOne.numberOfWorkingHours = 40\n",
    "employeeOne.numberOfWorkingHours"
   ]
  },
  {
   "cell_type": "code",
   "execution_count": 15,
   "metadata": {},
   "outputs": [
    {
     "data": {
      "text/plain": [
       "40"
      ]
     },
     "execution_count": 15,
     "metadata": {},
     "output_type": "execute_result"
    }
   ],
   "source": [
    "employeeTwo.numberOfWorkingHours = 40\n",
    "employeeTwo.numberOfWorkingHours\n",
    "# first priority is instances attribute then it will check the class attribute"
   ]
  },
  {
   "cell_type": "markdown",
   "metadata": {},
   "source": [
    " # self  Parameter"
   ]
  },
  {
   "cell_type": "code",
   "execution_count": 3,
   "metadata": {},
   "outputs": [
    {
     "ename": "TypeError",
     "evalue": "employeeDetails() takes 0 positional arguments but 1 was given",
     "output_type": "error",
     "traceback": [
      "\u001b[1;31m---------------------------------------------------------------------------\u001b[0m",
      "\u001b[1;31mTypeError\u001b[0m                                 Traceback (most recent call last)",
      "\u001b[1;32m<ipython-input-3-88d4ebcd0bea>\u001b[0m in \u001b[0;36m<module>\u001b[1;34m()\u001b[0m\n\u001b[0;32m      4\u001b[0m \u001b[1;33m\u001b[0m\u001b[0m\n\u001b[0;32m      5\u001b[0m \u001b[0memployee\u001b[0m \u001b[1;33m=\u001b[0m \u001b[0mEmployee\u001b[0m\u001b[1;33m(\u001b[0m\u001b[1;33m)\u001b[0m\u001b[1;33m\u001b[0m\u001b[0m\n\u001b[1;32m----> 6\u001b[1;33m \u001b[0memployee\u001b[0m\u001b[1;33m.\u001b[0m\u001b[0memployeeDetails\u001b[0m\u001b[1;33m(\u001b[0m\u001b[1;33m)\u001b[0m\u001b[1;33m\u001b[0m\u001b[0m\n\u001b[0m",
      "\u001b[1;31mTypeError\u001b[0m: employeeDetails() takes 0 positional arguments but 1 was given"
     ]
    }
   ],
   "source": [
    "class Employee:\n",
    "    def employeeDetails():\n",
    "        pass\n",
    "    \n",
    "employee = Employee()\n",
    "employee.employeeDetails()"
   ]
  },
  {
   "cell_type": "code",
   "execution_count": 4,
   "metadata": {
    "collapsed": true
   },
   "outputs": [],
   "source": [
    "# the error is because of this statement \"employee.employeeDetails() \" python interpeter will internally convert as Employee.employeeDetails(employee)\n",
    "# it will through the employee object to the employeeDetails method internally , that y it is htrowing an error .\n",
    "# in order to catch that parameter we are usinf SELF parameter.\n",
    "# instead of self we can use our own names also. but most of the people use for conviention purpose."
   ]
  },
  {
   "cell_type": "code",
   "execution_count": 7,
   "metadata": {},
   "outputs": [
    {
     "name": "stdout",
     "output_type": "stream",
     "text": [
      "Name of Employee is :  Ravi\n",
      "Name of Employee is :  Ravi\n"
     ]
    }
   ],
   "source": [
    "class Employee:\n",
    "    def employeeDetails(self):\n",
    "        self.name = \"Ravi\"\n",
    "        print(\"Name of Employee is : \",self.name)\n",
    "employee = Employee()\n",
    "employee.employeeDetails()\n",
    "Employee.employeeDetails(employee)\n"
   ]
  },
  {
   "cell_type": "code",
   "execution_count": 8,
   "metadata": {},
   "outputs": [
    {
     "name": "stdout",
     "output_type": "stream",
     "text": [
      "Name of Employee is :  Ravi\n"
     ]
    }
   ],
   "source": [
    "# we are getting 2 times output because both employee.employeeDetails() and Employee.employeeDetails(employee) are valid function calls.\n",
    "class Employee:\n",
    "    def employeeDetails(self):\n",
    "        self.name = \"Ravi\"\n",
    "        print(\"Name of Employee is : \",self.name)\n",
    "employee = Employee()\n",
    "employee.employeeDetails()"
   ]
  },
  {
   "cell_type": "code",
   "execution_count": 9,
   "metadata": {},
   "outputs": [
    {
     "name": "stdout",
     "output_type": "stream",
     "text": [
      "Name of Employee is :  Ravi\n",
      " age of employee is :  30\n"
     ]
    }
   ],
   "source": [
    "class Employee:\n",
    "    def employeeDetails(self):\n",
    "        self.name = \"Ravi\"\n",
    "        print(\"Name of Employee is : \",self.name)\n",
    "        age = 30\n",
    "        print(\"Age of employee is : \",age)\n",
    "employee = Employee()\n",
    "employee.employeeDetails()\n",
    "\n",
    "# age is printing without any self parameter why?\n",
    "# that instance attribute age is limited scope to that paricular method. We cannot access those attributes in another method as below programms guides you"
   ]
  },
  {
   "cell_type": "code",
   "execution_count": 11,
   "metadata": {},
   "outputs": [
    {
     "name": "stdout",
     "output_type": "stream",
     "text": [
      "Name of Employee is :  Ravi\n",
      "Age of employee is :  30\n",
      " printing in another method\n",
      "Name of Employee is :  Ravi\n"
     ]
    },
    {
     "ename": "NameError",
     "evalue": "name 'age' is not defined",
     "output_type": "error",
     "traceback": [
      "\u001b[1;31m---------------------------------------------------------------------------\u001b[0m",
      "\u001b[1;31mNameError\u001b[0m                                 Traceback (most recent call last)",
      "\u001b[1;32m<ipython-input-11-3a01b49cc29a>\u001b[0m in \u001b[0;36m<module>\u001b[1;34m()\u001b[0m\n\u001b[0;32m     11\u001b[0m \u001b[0memployee\u001b[0m \u001b[1;33m=\u001b[0m \u001b[0mEmployee\u001b[0m\u001b[1;33m(\u001b[0m\u001b[1;33m)\u001b[0m\u001b[1;33m\u001b[0m\u001b[0m\n\u001b[0;32m     12\u001b[0m \u001b[0memployee\u001b[0m\u001b[1;33m.\u001b[0m\u001b[0memployeeDetails\u001b[0m\u001b[1;33m(\u001b[0m\u001b[1;33m)\u001b[0m\u001b[1;33m\u001b[0m\u001b[0m\n\u001b[1;32m---> 13\u001b[1;33m \u001b[0memployee\u001b[0m\u001b[1;33m.\u001b[0m\u001b[0mprintEmployeeDetails\u001b[0m\u001b[1;33m(\u001b[0m\u001b[1;33m)\u001b[0m\u001b[1;33m\u001b[0m\u001b[0m\n\u001b[0m",
      "\u001b[1;32m<ipython-input-11-3a01b49cc29a>\u001b[0m in \u001b[0;36mprintEmployeeDetails\u001b[1;34m(self)\u001b[0m\n\u001b[0;32m      8\u001b[0m         \u001b[0mprint\u001b[0m\u001b[1;33m(\u001b[0m\u001b[1;34m\" printing in another method\"\u001b[0m\u001b[1;33m)\u001b[0m\u001b[1;33m\u001b[0m\u001b[0m\n\u001b[0;32m      9\u001b[0m         \u001b[0mprint\u001b[0m\u001b[1;33m(\u001b[0m\u001b[1;34m\"Name of Employee is : \"\u001b[0m\u001b[1;33m,\u001b[0m\u001b[0mself\u001b[0m\u001b[1;33m.\u001b[0m\u001b[0mname\u001b[0m\u001b[1;33m)\u001b[0m\u001b[1;33m\u001b[0m\u001b[0m\n\u001b[1;32m---> 10\u001b[1;33m         \u001b[0mprint\u001b[0m\u001b[1;33m(\u001b[0m\u001b[1;34m\"Age of employee is : \"\u001b[0m\u001b[1;33m,\u001b[0m\u001b[0mage\u001b[0m\u001b[1;33m)\u001b[0m\u001b[1;33m\u001b[0m\u001b[0m\n\u001b[0m\u001b[0;32m     11\u001b[0m \u001b[0memployee\u001b[0m \u001b[1;33m=\u001b[0m \u001b[0mEmployee\u001b[0m\u001b[1;33m(\u001b[0m\u001b[1;33m)\u001b[0m\u001b[1;33m\u001b[0m\u001b[0m\n\u001b[0;32m     12\u001b[0m \u001b[0memployee\u001b[0m\u001b[1;33m.\u001b[0m\u001b[0memployeeDetails\u001b[0m\u001b[1;33m(\u001b[0m\u001b[1;33m)\u001b[0m\u001b[1;33m\u001b[0m\u001b[0m\n",
      "\u001b[1;31mNameError\u001b[0m: name 'age' is not defined"
     ]
    }
   ],
   "source": [
    "class Employee:\n",
    "    def employeeDetails(self):\n",
    "        self.name = \"Ravi\"\n",
    "        print(\"Name of Employee is : \",self.name)\n",
    "        age = 30\n",
    "        print(\"Age of employee is : \",age)\n",
    "    def printEmployeeDetails(self):\n",
    "        print(\" printing in another method\")\n",
    "        print(\"Name of Employee is : \",self.name)\n",
    "        print(\"Age of employee is : \",age)\n",
    "employee = Employee()\n",
    "employee.employeeDetails()\n",
    "employee.printEmployeeDetails()"
   ]
  },
  {
   "cell_type": "code",
   "execution_count": 12,
   "metadata": {
    "collapsed": true
   },
   "outputs": [],
   "source": [
    "# here age is printed this is due limited scope age attribute in the class, where age can be used in that method only.\n",
    "# onces the employeeDetails method terminates we cannot use the age attributes in another methods . this throws the error."
   ]
  },
  {
   "cell_type": "code",
   "execution_count": 13,
   "metadata": {},
   "outputs": [
    {
     "name": "stdout",
     "output_type": "stream",
     "text": [
      "Name of Employee is :  Ravi\n",
      "Age of employee is :  30\n",
      " printing in another method\n",
      "Name of Employee is :  Ravi\n",
      "Age of employee is :  30\n"
     ]
    }
   ],
   "source": [
    "class Employee:\n",
    "    def employeeDetails(self):\n",
    "        self.name = \"Ravi\"\n",
    "        print(\"Name of Employee is : \",self.name)\n",
    "        self.age = 30\n",
    "        print(\"Age of employee is : \",self.age)\n",
    "    def printEmployeeDetails(self):\n",
    "        print(\" printing in another method\")\n",
    "        print(\"Name of Employee is : \",self.name)\n",
    "        print(\"Age of employee is : \",self.age)\n",
    "employee = Employee()\n",
    "employee.employeeDetails()\n",
    "employee.printEmployeeDetails()"
   ]
  },
  {
   "cell_type": "code",
   "execution_count": 14,
   "metadata": {},
   "outputs": [
    {
     "name": "stdout",
     "output_type": "stream",
     "text": [
      "Name of Employee is :  Ravi\n",
      "Age of employee is :  30\n"
     ]
    }
   ],
   "source": [
    "class Employee:\n",
    "    def employeeDetails(self):\n",
    "        name = \"Ravi\"\n",
    "        print(\"Name of Employee is : \",name)\n",
    "        age = 30\n",
    "        print(\"Age of employee is : \",age)\n",
    "employee = Employee()\n",
    "employee.employeeDetails()"
   ]
  },
  {
   "cell_type": "code",
   "execution_count": 15,
   "metadata": {},
   "outputs": [
    {
     "name": "stdout",
     "output_type": "stream",
     "text": [
      "Name of Employee is :  Ravi\n",
      "Age of employee is :  30\n"
     ]
    }
   ],
   "source": [
    "class Employee:\n",
    "    def employeeDetails(self):\n",
    "        self.name = \"Ravi\"\n",
    "        print(\"Name of Employee is : \",self.name)\n",
    "        age = 30\n",
    "        print(\"Age of employee is : \",age)\n",
    "employee = Employee()\n",
    "employee.employeeDetails()"
   ]
  },
  {
   "cell_type": "markdown",
   "metadata": {},
   "source": [
    "#   Methods"
   ]
  },
  {
   "cell_type": "markdown",
   "metadata": {},
   "source": [
    "#   Instances Methods"
   ]
  },
  {
   "cell_type": "code",
   "execution_count": 16,
   "metadata": {},
   "outputs": [
    {
     "name": "stdout",
     "output_type": "stream",
     "text": [
      "Ravi\n"
     ]
    }
   ],
   "source": [
    "# Instance Methods  are methods of a class that make use of self parameter that access and modify the instances attributes of our class\n",
    "class Employee:\n",
    "    def employeeDetails(self):\n",
    "        self.name = \"Ravi\"\n",
    "employee = Employee()\n",
    "employee.employeeDetails()\n",
    "print(employee.name)"
   ]
  },
  {
   "cell_type": "code",
   "execution_count": 20,
   "metadata": {},
   "outputs": [
    {
     "name": "stdout",
     "output_type": "stream",
     "text": [
      "Ravi\n",
      "Welcome to the course of python \n"
     ]
    }
   ],
   "source": [
    "class Employee:\n",
    "    def employeeDetails(self):\n",
    "        self.name = \"Ravi\"\n",
    "    def welcomeMessage(self):\n",
    "        print(\"Welcome to the course of python \")\n",
    "employee = Employee()\n",
    "employee.employeeDetails()\n",
    "print(employee.name)\n",
    "employee.welcomeMessage()\n",
    "\n",
    "# for  this welcomeMessage no where we are using the self paramter. then why we are putting self parameter?\n",
    "# this is where static method comes into picture\n"
   ]
  },
  {
   "cell_type": "markdown",
   "metadata": {},
   "source": [
    "#    Static Methods"
   ]
  },
  {
   "cell_type": "code",
   "execution_count": 21,
   "metadata": {
    "collapsed": true
   },
   "outputs": [],
   "source": [
    "# Static methods are methods that do not take default self parameter \n",
    "# Q: how to distingush between instance and static method?\n",
    "# A: with help of decorator : decorators are functions that takes another function and extends their functionality"
   ]
  },
  {
   "cell_type": "code",
   "execution_count": 22,
   "metadata": {},
   "outputs": [
    {
     "name": "stdout",
     "output_type": "stream",
     "text": [
      "Ravi\n",
      "Welcome to the course of python \n"
     ]
    }
   ],
   "source": [
    "class Employee:\n",
    "    def employeeDetails(self):\n",
    "        self.name = \"Ravi\"\n",
    "    @staticmethod\n",
    "    def welcomeMessage():\n",
    "        print(\"Welcome to the course of python \")\n",
    "employee = Employee()\n",
    "employee.employeeDetails()\n",
    "print(employee.name)\n",
    "employee.welcomeMessage()"
   ]
  },
  {
   "cell_type": "markdown",
   "metadata": {},
   "source": [
    "#   init() method"
   ]
  },
  {
   "cell_type": "code",
   "execution_count": 23,
   "metadata": {},
   "outputs": [
    {
     "ename": "AttributeError",
     "evalue": "'Employee' object has no attribute 'name'",
     "output_type": "error",
     "traceback": [
      "\u001b[1;31m---------------------------------------------------------------------------\u001b[0m",
      "\u001b[1;31mAttributeError\u001b[0m                            Traceback (most recent call last)",
      "\u001b[1;32m<ipython-input-23-1c2e2a328ed6>\u001b[0m in \u001b[0;36m<module>\u001b[1;34m()\u001b[0m\n\u001b[0;32m      5\u001b[0m         \u001b[0mprint\u001b[0m\u001b[1;33m(\u001b[0m\u001b[1;34m\"Name of the Employee is : \"\u001b[0m\u001b[1;33m,\u001b[0m\u001b[0mself\u001b[0m\u001b[1;33m.\u001b[0m\u001b[0mname\u001b[0m\u001b[1;33m)\u001b[0m\u001b[1;33m\u001b[0m\u001b[0m\n\u001b[0;32m      6\u001b[0m \u001b[0memployee\u001b[0m \u001b[1;33m=\u001b[0m \u001b[0mEmployee\u001b[0m\u001b[1;33m(\u001b[0m\u001b[1;33m)\u001b[0m\u001b[1;33m\u001b[0m\u001b[0m\n\u001b[1;32m----> 7\u001b[1;33m \u001b[0memployee\u001b[0m\u001b[1;33m.\u001b[0m\u001b[0mdisplayEmployeeDetails\u001b[0m\u001b[1;33m(\u001b[0m\u001b[1;33m)\u001b[0m\u001b[1;33m\u001b[0m\u001b[0m\n\u001b[0m",
      "\u001b[1;32m<ipython-input-23-1c2e2a328ed6>\u001b[0m in \u001b[0;36mdisplayEmployeeDetails\u001b[1;34m(self)\u001b[0m\n\u001b[0;32m      3\u001b[0m         \u001b[0mself\u001b[0m\u001b[1;33m.\u001b[0m\u001b[0mname\u001b[0m \u001b[1;33m=\u001b[0m \u001b[1;34m\"Ravi\"\u001b[0m\u001b[1;33m\u001b[0m\u001b[0m\n\u001b[0;32m      4\u001b[0m     \u001b[1;32mdef\u001b[0m \u001b[0mdisplayEmployeeDetails\u001b[0m\u001b[1;33m(\u001b[0m\u001b[0mself\u001b[0m\u001b[1;33m)\u001b[0m\u001b[1;33m:\u001b[0m\u001b[1;33m\u001b[0m\u001b[0m\n\u001b[1;32m----> 5\u001b[1;33m         \u001b[0mprint\u001b[0m\u001b[1;33m(\u001b[0m\u001b[1;34m\"Name of the Employee is : \"\u001b[0m\u001b[1;33m,\u001b[0m\u001b[0mself\u001b[0m\u001b[1;33m.\u001b[0m\u001b[0mname\u001b[0m\u001b[1;33m)\u001b[0m\u001b[1;33m\u001b[0m\u001b[0m\n\u001b[0m\u001b[0;32m      6\u001b[0m \u001b[0memployee\u001b[0m \u001b[1;33m=\u001b[0m \u001b[0mEmployee\u001b[0m\u001b[1;33m(\u001b[0m\u001b[1;33m)\u001b[0m\u001b[1;33m\u001b[0m\u001b[0m\n\u001b[0;32m      7\u001b[0m \u001b[0memployee\u001b[0m\u001b[1;33m.\u001b[0m\u001b[0mdisplayEmployeeDetails\u001b[0m\u001b[1;33m(\u001b[0m\u001b[1;33m)\u001b[0m\u001b[1;33m\u001b[0m\u001b[0m\n",
      "\u001b[1;31mAttributeError\u001b[0m: 'Employee' object has no attribute 'name'"
     ]
    }
   ],
   "source": [
    "class Employee:\n",
    "    def enterEmployeeDetails(self):\n",
    "        self.name = \"Ravi\"\n",
    "    def displayEmployeeDetails(self):\n",
    "        print(\"Name of the Employee is : \",self.name)\n",
    "employee = Employee()\n",
    "employee.displayEmployeeDetails()"
   ]
  },
  {
   "cell_type": "code",
   "execution_count": 24,
   "metadata": {},
   "outputs": [
    {
     "name": "stdout",
     "output_type": "stream",
     "text": [
      "Name of the Employee is :  Ravi\n"
     ]
    }
   ],
   "source": [
    "# the error is because of intialissation is happend in 1st method but we called 2nd method first.In order to overcomes this pytho uses the special method called init()\n",
    "class Employee:\n",
    "    def __init__(self):  # special methods in python are start and end with 2 underscores.\n",
    "        self.name = \"Ravi\"\n",
    "    def displayEmployeeDetails(self):\n",
    "        print(\"Name of the Employee is : \",self.name)\n",
    "employee = Employee()\n",
    "employee.displayEmployeeDetails()"
   ]
  },
  {
   "cell_type": "code",
   "execution_count": 25,
   "metadata": {},
   "outputs": [
    {
     "name": "stdout",
     "output_type": "stream",
     "text": [
      "Name of the Employee is :  Ravi\n",
      "Name of the Employee is :  Ravi\n"
     ]
    }
   ],
   "source": [
    "# init() is the first method that executes when we create a object to a class. then it will intialisess the instances attributte.\n",
    "class Employee:\n",
    "    def __init__(self):  # special methods in python are start and end with 2 underscores.\n",
    "        self.name = \"Ravi\"\n",
    "    def displayEmployeeDetails(self):\n",
    "        print(\"Name of the Employee is : \",self.name)\n",
    "employee = Employee()\n",
    "employeeTwo = Employee()\n",
    "employee.displayEmployeeDetails()\n",
    "employeeTwo.displayEmployeeDetails()"
   ]
  },
  {
   "cell_type": "code",
   "execution_count": 28,
   "metadata": {},
   "outputs": [
    {
     "name": "stdout",
     "output_type": "stream",
     "text": [
      "Name of the Employee is :  ravi\n",
      "Name of the Employee is :  sankar\n"
     ]
    }
   ],
   "source": [
    "class Employee:\n",
    "    def __init__(self, name):  # special methods in python are start and end with 2 underscores.\n",
    "        self.name = name\n",
    "    def displayEmployeeDetails(self):\n",
    "        print(\"Name of the Employee is : \",self.name)\n",
    "employee = Employee(\"ravi\")\n",
    "employeeTwo = Employee(\"sankar\")\n",
    "employee.displayEmployeeDetails()\n",
    "employeeTwo.displayEmployeeDetails()"
   ]
  },
  {
   "cell_type": "code",
   "execution_count": null,
   "metadata": {
    "collapsed": true
   },
   "outputs": [],
   "source": []
  }
 ],
 "metadata": {
  "kernelspec": {
   "display_name": "Python 3",
   "language": "python",
   "name": "python3"
  },
  "language_info": {
   "codemirror_mode": {
    "name": "ipython",
    "version": 3
   },
   "file_extension": ".py",
   "mimetype": "text/x-python",
   "name": "python",
   "nbconvert_exporter": "python",
   "pygments_lexer": "ipython3",
   "version": "3.6.3"
  }
 },
 "nbformat": 4,
 "nbformat_minor": 2
}
