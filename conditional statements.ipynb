{
 "cells": [
  {
   "cell_type": "markdown",
   "metadata": {},
   "source": [
    "# Conditional Staements"
   ]
  },
  {
   "cell_type": "code",
   "execution_count": 1,
   "metadata": {
    "collapsed": true
   },
   "outputs": [],
   "source": [
    "# conditional statemets are statements whose execution depends on evalution of certian conditions.\n",
    "# Different types of condtional statements.\n",
    "# if , if-else, if-else ladder\n"
   ]
  },
  {
   "cell_type": "code",
   "execution_count": 3,
   "metadata": {},
   "outputs": [
    {
     "name": "stdout",
     "output_type": "stream",
     "text": [
      "congraultion u have secured A grade\n"
     ]
    }
   ],
   "source": [
    "# IF Condtion\n",
    "totalMarks = 95\n",
    "if totalMarks >= 90 : print(\"congraultions! u have secured A grade\")\n",
    "\n"
   ]
  },
  {
   "cell_type": "code",
   "execution_count": 4,
   "metadata": {
    "collapsed": true
   },
   "outputs": [],
   "source": [
    "totalMarks = 80\n",
    "if totalMarks >= 90 : print(\"congraultions! u have secured A grade\")\n",
    "    # it is not providing any result "
   ]
  },
  {
   "cell_type": "code",
   "execution_count": 5,
   "metadata": {},
   "outputs": [
    {
     "name": "stdout",
     "output_type": "stream",
     "text": [
      "you have cleared the examinations\n"
     ]
    }
   ],
   "source": [
    "# If-Else\n",
    "totalMarks = 80\n",
    "if totalMarks >= 90 : \n",
    "    print(\"congraultions! u have secured A grade\")\n",
    "else : print(\"you have cleared the examinations\")\n"
   ]
  },
  {
   "cell_type": "code",
   "execution_count": 6,
   "metadata": {},
   "outputs": [
    {
     "name": "stdout",
     "output_type": "stream",
     "text": [
      "congraultions! u have cleared the examinations\n"
     ]
    }
   ],
   "source": [
    "# If-Else ladder\n",
    "totalMarks = 60\n",
    "if totalMarks >= 90 : \n",
    "    print(\"congraultions! u have secured A grade\")\n",
    "elif totalMarks >=40 : print(\"congraultions! u have cleared the examinations\")\n",
    "elif totalMarks >=90 : print(\"congraultions! u have secured A grade\")\n",
    "elif totalMarks >=60 : print(\"congraultions! u have got the distinction\")\n",
    "else                 : print(\"You have failed  examinations\")"
   ]
  },
  {
   "cell_type": "code",
   "execution_count": 12,
   "metadata": {},
   "outputs": [
    {
     "name": "stdout",
     "output_type": "stream",
     "text": [
      "congraultions! u have secured A grade\n",
      "congraultions! u have got full marks too\n"
     ]
    }
   ],
   "source": [
    "# nested If condition\n",
    "totalMarks = 100\n",
    "if totalMarks >= 90: \n",
    "    print(\"congraultions! u have secured A grade\")\n",
    "    if totalMarks == 100: \n",
    "        print(\"congraultions! u have also got full marks too\")\n",
    "        "
   ]
  },
  {
   "cell_type": "code",
   "execution_count": 14,
   "metadata": {},
   "outputs": [
    {
     "name": "stdout",
     "output_type": "stream",
     "text": [
      " You are awesome in over all performance\n"
     ]
    }
   ],
   "source": [
    "# and operation in conditional statements\n",
    "totalMarks = 95\n",
    "percentageOfAttendeces = 93\n",
    "if totalMarks >=90 and percentageOfAttendeces >=90 : \n",
    "    print(\" You are awesome in over all performance\")"
   ]
  },
  {
   "cell_type": "code",
   "execution_count": 15,
   "metadata": {
    "collapsed": true
   },
   "outputs": [],
   "source": [
    "totalMarks = 95\n",
    "percentageOfAttendeces = 60\n",
    "if totalMarks >=90 and percentageOfAttendeces >=90 : \n",
    "    print(\" You are awesome in over all performance\")"
   ]
  },
  {
   "cell_type": "code",
   "execution_count": 16,
   "metadata": {},
   "outputs": [
    {
     "name": "stdout",
     "output_type": "stream",
     "text": [
      " I love that fruit\n"
     ]
    }
   ],
   "source": [
    "# or operation in conditional statements\n",
    "fruit = \"apple\"\n",
    "if fruit is  \"mango\" or fruit is \"apple\" : print(\" I love that fruit\")"
   ]
  },
  {
   "cell_type": "code",
   "execution_count": 17,
   "metadata": {
    "collapsed": true
   },
   "outputs": [],
   "source": [
    "fruit = \"straberry\"\n",
    "if fruit is  \"mango\" or fruit is \"apple\" : print(\" I love that fruit\")"
   ]
  },
  {
   "cell_type": "code",
   "execution_count": 18,
   "metadata": {},
   "outputs": [
    {
     "name": "stdout",
     "output_type": "stream",
     "text": [
      " given number is multiple of 3\n",
      " given number is multiple of 3 , but it isnot multiple of 7\n"
     ]
    }
   ],
   "source": [
    "# Logical operators in conditional statements\n",
    "# to check whether the number is multiple of 3 and 7\n",
    "number = 6\n",
    "if number % 3 is 0 :\n",
    "    print(\" given number is multiple of 3\")\n",
    "    if number % 7 is 0 :\n",
    "        print(\" hiven number is also multiple of 7 \")\n",
    "    else : \n",
    "        print(\" given number is multiple of 3 , but it is not multiple of 7\")\n"
   ]
  },
  {
   "cell_type": "code",
   "execution_count": 19,
   "metadata": {},
   "outputs": [
    {
     "name": "stdout",
     "output_type": "stream",
     "text": [
      " User please enter the value you want to check\n",
      "34\n"
     ]
    },
    {
     "ename": "TypeError",
     "evalue": "not all arguments converted during string formatting",
     "output_type": "error",
     "traceback": [
      "\u001b[1;31m---------------------------------------------------------------------------\u001b[0m",
      "\u001b[1;31mTypeError\u001b[0m                                 Traceback (most recent call last)",
      "\u001b[1;32m<ipython-input-19-7fd749cc1104>\u001b[0m in \u001b[0;36m<module>\u001b[1;34m()\u001b[0m\n\u001b[0;32m      4\u001b[0m \u001b[0mprint\u001b[0m\u001b[1;33m(\u001b[0m\u001b[1;34m\" User please enter the value you want to check\"\u001b[0m\u001b[1;33m)\u001b[0m\u001b[1;33m\u001b[0m\u001b[0m\n\u001b[0;32m      5\u001b[0m \u001b[0mnumber\u001b[0m \u001b[1;33m=\u001b[0m \u001b[0minput\u001b[0m\u001b[1;33m(\u001b[0m\u001b[1;33m)\u001b[0m \u001b[1;31m# input() is a funciton through which we can give input from the user\u001b[0m\u001b[1;33m\u001b[0m\u001b[0m\n\u001b[1;32m----> 6\u001b[1;33m \u001b[1;32mif\u001b[0m \u001b[0mnumber\u001b[0m \u001b[1;33m%\u001b[0m \u001b[1;36m3\u001b[0m \u001b[1;32mis\u001b[0m \u001b[1;36m0\u001b[0m \u001b[1;33m:\u001b[0m\u001b[1;33m\u001b[0m\u001b[0m\n\u001b[0m\u001b[0;32m      7\u001b[0m     \u001b[0mprint\u001b[0m\u001b[1;33m(\u001b[0m\u001b[1;34m\" given number is multiple of 3\"\u001b[0m\u001b[1;33m)\u001b[0m\u001b[1;33m\u001b[0m\u001b[0m\n\u001b[0;32m      8\u001b[0m     \u001b[1;32mif\u001b[0m \u001b[0mnumber\u001b[0m \u001b[1;33m%\u001b[0m \u001b[1;36m7\u001b[0m \u001b[1;32mis\u001b[0m \u001b[1;36m0\u001b[0m \u001b[1;33m:\u001b[0m\u001b[1;33m\u001b[0m\u001b[0m\n",
      "\u001b[1;31mTypeError\u001b[0m: not all arguments converted during string formatting"
     ]
    }
   ],
   "source": [
    "# Logical operators in conditional statements\n",
    "# to check whether the number is multiple of 3 and 7\n",
    "# try to get the input from the user \n",
    "print(\" User please enter the value you want to check\")\n",
    "number = input() # input() is a funciton through which we can give input from the user\n",
    "if number % 3 is 0 :\n",
    "    print(\" given number is multiple of 3\")\n",
    "    if number % 7 is 0 :\n",
    "        print(\" hiven number is also multiple of 7 \")\n",
    "    else : \n",
    "        print(\" given number is multiple of 3 , but it is not multiple of 7\")\n",
    "        \n",
    "        \n",
    "        # we will get the error becase number = input() by default it will take it as a string .\n",
    "        # so we need to type case the string into int type , this is shown in next program "
   ]
  },
  {
   "cell_type": "code",
   "execution_count": 22,
   "metadata": {},
   "outputs": [
    {
     "name": "stdout",
     "output_type": "stream",
     "text": [
      "User please enter the value you want to check\n",
      "34\n",
      " given number is not mulitplle of both 3 and 7 \n",
      "\n",
      " Thanks for for checking\n"
     ]
    }
   ],
   "source": [
    "# Logical operators in conditional statements\n",
    "# to check whether the number is multiple of 3 and 7\n",
    "# try to get the input from the user \n",
    "print(\"User please enter the value you want to check\")\n",
    "number = int(input()) # input() is a funciton through which we can give input from the user\n",
    "if number % 3 is 0 :\n",
    "    print(\" given number is multiple of 3\")\n",
    "    if number % 7 is 0 :\n",
    "        print(\" hiven number is also multiple of 7 \")\n",
    "    else : \n",
    "        print(\" given number is multiple of 3 , but it is not multiple of 7\")\n",
    "else :\n",
    "    print(\" given number is not mulitplle of both 3 and 7 \")\n",
    "    print()\n",
    "    print(\" Thanks for for checking\")"
   ]
  },
  {
   "cell_type": "code",
   "execution_count": null,
   "metadata": {
    "collapsed": true
   },
   "outputs": [],
   "source": []
  }
 ],
 "metadata": {
  "kernelspec": {
   "display_name": "Python 3",
   "language": "python",
   "name": "python3"
  },
  "language_info": {
   "codemirror_mode": {
    "name": "ipython",
    "version": 3
   },
   "file_extension": ".py",
   "mimetype": "text/x-python",
   "name": "python",
   "nbconvert_exporter": "python",
   "pygments_lexer": "ipython3",
   "version": "3.6.3"
  }
 },
 "nbformat": 4,
 "nbformat_minor": 2
}
